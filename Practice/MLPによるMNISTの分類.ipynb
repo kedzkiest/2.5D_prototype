{
  "nbformat": 4,
  "nbformat_minor": 0,
  "metadata": {
    "colab": {
      "name": "MLPによるMNISTの分類.ipynb",
      "provenance": [],
      "authorship_tag": "ABX9TyPMm6wwVebYfVVXyc1kzOAS",
      "include_colab_link": true
    },
    "kernelspec": {
      "name": "python3",
      "display_name": "Python 3"
    },
    "language_info": {
      "name": "python"
    },
    "accelerator": "GPU",
    "gpuClass": "standard"
  },
  "cells": [
    {
      "cell_type": "markdown",
      "metadata": {
        "id": "view-in-github",
        "colab_type": "text"
      },
      "source": [
        "<a href=\"https://colab.research.google.com/github/kedzkiest/2.5D_prototype/blob/main/Practice/MLP%E3%81%AB%E3%82%88%E3%82%8BMNIST%E3%81%AE%E5%88%86%E9%A1%9E.ipynb\" target=\"_parent\"><img src=\"https://colab.research.google.com/assets/colab-badge.svg\" alt=\"Open In Colab\"/></a>"
      ]
    },
    {
      "cell_type": "code",
      "execution_count": 1,
      "metadata": {
        "id": "8KPuPlPLjNiP"
      },
      "outputs": [],
      "source": [
        "import torch\n",
        "import torch.nn as nn\n",
        "import torch.optim as optim\n",
        "import numpy as np\n",
        "import matplotlib.pyplot as plt\n",
        "import seaborn as sns\n",
        "from torchvision import datasets, transforms\n",
        "from torch.utils.data import DataLoader"
      ]
    },
    {
      "cell_type": "code",
      "source": [
        "device = \"cuda\" if torch.cuda.is_available() else \"cpu\""
      ],
      "metadata": {
        "id": "5PB0ykmPjk1f"
      },
      "execution_count": 2,
      "outputs": []
    },
    {
      "cell_type": "code",
      "source": [
        "device"
      ],
      "metadata": {
        "colab": {
          "base_uri": "https://localhost:8080/",
          "height": 36
        },
        "id": "PzdYYE6Ijpc0",
        "outputId": "5958832a-d833-471d-bde1-b91392272ee7"
      },
      "execution_count": 3,
      "outputs": [
        {
          "output_type": "execute_result",
          "data": {
            "text/plain": [
              "'cuda'"
            ],
            "application/vnd.google.colaboratory.intrinsic+json": {
              "type": "string"
            }
          },
          "metadata": {},
          "execution_count": 3
        }
      ]
    },
    {
      "cell_type": "code",
      "source": [
        "transform = transforms.Compose([\n",
        "    transforms.ToTensor()\n",
        "])\n",
        "train_dataset = datasets.MNIST(root=\"./data\", train=True, download=True, transform = transform)"
      ],
      "metadata": {
        "id": "KA_R-sf7jp2R"
      },
      "execution_count": 4,
      "outputs": []
    },
    {
      "cell_type": "code",
      "source": [
        "num_batches = 100"
      ],
      "metadata": {
        "id": "yBBRC4E-kCxh"
      },
      "execution_count": 5,
      "outputs": []
    },
    {
      "cell_type": "code",
      "source": [
        "train_dataloader = DataLoader(train_dataset, batch_size=num_batches, shuffle=True)"
      ],
      "metadata": {
        "id": "2ztwl0AvkHok"
      },
      "execution_count": 6,
      "outputs": []
    },
    {
      "cell_type": "code",
      "source": [
        "train_iter = iter(train_dataloader)"
      ],
      "metadata": {
        "id": "LDgDfrxhkPmw"
      },
      "execution_count": 7,
      "outputs": []
    },
    {
      "cell_type": "code",
      "source": [
        "imgs, labels = train_iter.next()"
      ],
      "metadata": {
        "id": "3AnWQfePkSrF"
      },
      "execution_count": 8,
      "outputs": []
    },
    {
      "cell_type": "code",
      "source": [
        "imgs.size()"
      ],
      "metadata": {
        "colab": {
          "base_uri": "https://localhost:8080/"
        },
        "id": "78GX5SJFkZsp",
        "outputId": "74a3dee6-8235-4454-ff5f-0ac5455bbdb4"
      },
      "execution_count": 9,
      "outputs": [
        {
          "output_type": "execute_result",
          "data": {
            "text/plain": [
              "torch.Size([100, 1, 28, 28])"
            ]
          },
          "metadata": {},
          "execution_count": 9
        }
      ]
    },
    {
      "cell_type": "code",
      "source": [
        "labels"
      ],
      "metadata": {
        "colab": {
          "base_uri": "https://localhost:8080/"
        },
        "id": "MFZaXMnFkapi",
        "outputId": "5306550f-dcbb-412f-f04e-c1406ff84d4a"
      },
      "execution_count": 10,
      "outputs": [
        {
          "output_type": "execute_result",
          "data": {
            "text/plain": [
              "tensor([4, 6, 7, 1, 3, 3, 3, 8, 7, 2, 1, 9, 6, 4, 2, 1, 3, 9, 7, 4, 3, 1, 2, 4,\n",
              "        9, 8, 4, 6, 4, 1, 8, 6, 5, 9, 6, 7, 2, 8, 1, 7, 8, 7, 6, 9, 3, 7, 9, 2,\n",
              "        8, 1, 8, 3, 1, 2, 9, 5, 4, 7, 0, 7, 1, 2, 0, 6, 0, 2, 3, 1, 5, 4, 9, 0,\n",
              "        5, 1, 5, 3, 9, 7, 6, 3, 5, 0, 7, 4, 8, 1, 9, 9, 6, 9, 1, 2, 4, 6, 6, 7,\n",
              "        5, 0, 7, 6])"
            ]
          },
          "metadata": {},
          "execution_count": 10
        }
      ]
    },
    {
      "cell_type": "code",
      "source": [
        "img = imgs[0]"
      ],
      "metadata": {
        "id": "gfpfPiVhkfA9"
      },
      "execution_count": 11,
      "outputs": []
    },
    {
      "cell_type": "code",
      "source": [
        "img_permute = img.permute(1, 2, 0)"
      ],
      "metadata": {
        "id": "0Fn4GFtUkhnk"
      },
      "execution_count": 12,
      "outputs": []
    },
    {
      "cell_type": "code",
      "source": [
        "sns.heatmap(img_permute.numpy()[:,:,0])"
      ],
      "metadata": {
        "colab": {
          "base_uri": "https://localhost:8080/",
          "height": 287
        },
        "id": "XsH8bvIkkngY",
        "outputId": "3cd59470-2836-4e80-db2a-41537bc9aa28"
      },
      "execution_count": 13,
      "outputs": [
        {
          "output_type": "execute_result",
          "data": {
            "text/plain": [
              "<matplotlib.axes._subplots.AxesSubplot at 0x7f978df7ed50>"
            ]
          },
          "metadata": {},
          "execution_count": 13
        },
        {
          "output_type": "display_data",
          "data": {
            "text/plain": [
              "<Figure size 432x288 with 2 Axes>"
            ],
            "image/png": "[encoded data removed]"
          },
          "metadata": {
            "needs_background": "light"
          }
        }
      ]
    },
    {
      "cell_type": "code",
      "source": [
        "labels[0]"
      ],
      "metadata": {
        "colab": {
          "base_uri": "https://localhost:8080/"
        },
        "id": "Y7MILvbikyvL",
        "outputId": "e58c239d-0cc7-4807-da2f-7f9f6da8551c"
      },
      "execution_count": 14,
      "outputs": [
        {
          "output_type": "execute_result",
          "data": {
            "text/plain": [
              "tensor(4)"
            ]
          },
          "metadata": {},
          "execution_count": 14
        }
      ]
    },
    {
      "cell_type": "code",
      "source": [
        "class MLP(nn.Module):\n",
        "    def __init__(self):\n",
        "        super().__init__()\n",
        "        self.classifier = nn.Sequential(\n",
        "            nn.Linear(28*28, 400),\n",
        "            nn.ReLU(inplace=True),\n",
        "            nn.Linear(400, 200),\n",
        "            nn.ReLU(inplace=True),\n",
        "            nn.Linear(200, 100),\n",
        "            nn.ReLU(inplace=True),\n",
        "            nn.Linear(100, 10)\n",
        "        )\n",
        "    def forward(self, x):\n",
        "        output = self.classifier(x)\n",
        "        return output"
      ],
      "metadata": {
        "id": "mhBmvTXSk7s6"
      },
      "execution_count": 15,
      "outputs": []
    },
    {
      "cell_type": "code",
      "source": [
        "model = MLP()"
      ],
      "metadata": {
        "id": "bmFshIibleRv"
      },
      "execution_count": 16,
      "outputs": []
    },
    {
      "cell_type": "code",
      "source": [
        "model.to(device)"
      ],
      "metadata": {
        "colab": {
          "base_uri": "https://localhost:8080/"
        },
        "id": "ujn-nb1ilfa9",
        "outputId": "c4e4c687-3cb5-4e59-e177-b7f5ba0aab5e"
      },
      "execution_count": 17,
      "outputs": [
        {
          "output_type": "execute_result",
          "data": {
            "text/plain": [
              "MLP(\n",
              "  (classifier): Sequential(\n",
              "    (0): Linear(in_features=784, out_features=400, bias=True)\n",
              "    (1): ReLU(inplace=True)\n",
              "    (2): Linear(in_features=400, out_features=200, bias=True)\n",
              "    (3): ReLU(inplace=True)\n",
              "    (4): Linear(in_features=200, out_features=100, bias=True)\n",
              "    (5): ReLU(inplace=True)\n",
              "    (6): Linear(in_features=100, out_features=10, bias=True)\n",
              "  )\n",
              ")"
            ]
          },
          "metadata": {},
          "execution_count": 17
        }
      ]
    },
    {
      "cell_type": "code",
      "source": [
        "criterion = nn.CrossEntropyLoss()\n",
        "optimizer = optim.Adam(model.parameters(), lr=0.001)"
      ],
      "metadata": {
        "id": "npEJS_tflkgQ"
      },
      "execution_count": 18,
      "outputs": []
    },
    {
      "cell_type": "code",
      "source": [
        "num_epochs = 15\n",
        "losses = []\n",
        "accs = []\n",
        "for epoch in range(num_epochs):\n",
        "    running_loss = 0.0\n",
        "    running_acc = 0.0\n",
        "    for imgs, labels in train_dataloader:\n",
        "        imgs = imgs.view(num_batches, -1)\n",
        "        imgs = imgs.to(device)\n",
        "        labels = labels.to(device)\n",
        "        optimizer.zero_grad()\n",
        "        output = model(imgs)\n",
        "        loss = criterion(output, labels)\n",
        "        running_loss += loss.item()\n",
        "        pred = torch.argmax(output, dim = 1)\n",
        "        running_acc += torch.mean(pred.eq(labels).float())\n",
        "        loss.backward()\n",
        "        optimizer.step()\n",
        "    running_loss /= len(train_dataloader)\n",
        "    running_acc /= len(train_dataloader)\n",
        "    losses.append(running_loss)\n",
        "    accs.append(running_acc.cpu())\n",
        "    print(\"epoch: {}, loss: {}, acc: {}\".format(epoch, running_loss, running_acc))"
      ],
      "metadata": {
        "colab": {
          "base_uri": "https://localhost:8080/"
        },
        "id": "pft-YK8Nlvh2",
        "outputId": "0bba928f-b07b-41f7-a729-d0b18d6658b8"
      },
      "execution_count": 19,
      "outputs": [
        {
          "output_type": "stream",
          "name": "stdout",
          "text": [
            "epoch: 0, loss: 0.31512345393809177, acc: 0.9048839807510376\n",
            "epoch: 1, loss: 0.11239510325404505, acc: 0.9660336375236511\n",
            "epoch: 2, loss: 0.07495081354087839, acc: 0.9766491055488586\n",
            "epoch: 3, loss: 0.053669952081982046, acc: 0.9837653636932373\n",
            "epoch: 4, loss: 0.039547471893213997, acc: 0.9878490567207336\n",
            "epoch: 5, loss: 0.03259703271110387, acc: 0.9896985292434692\n",
            "epoch: 6, loss: 0.027050512914235395, acc: 0.9911485910415649\n",
            "epoch: 7, loss: 0.02342769756471777, acc: 0.9921985268592834\n",
            "epoch: 8, loss: 0.01947828931787323, acc: 0.9934817552566528\n",
            "epoch: 9, loss: 0.01756294263010204, acc: 0.9944319128990173\n",
            "epoch: 10, loss: 0.014060861837278935, acc: 0.9951654076576233\n",
            "epoch: 11, loss: 0.016081859186318374, acc: 0.9947487711906433\n",
            "epoch: 12, loss: 0.014088764617226843, acc: 0.9951318502426147\n",
            "epoch: 13, loss: 0.010336765415831905, acc: 0.9966986179351807\n",
            "epoch: 14, loss: 0.010712236575321488, acc: 0.9965490698814392\n"
          ]
        }
      ]
    },
    {
      "cell_type": "code",
      "source": [
        "plt.plot(losses)"
      ],
      "metadata": {
        "colab": {
          "base_uri": "https://localhost:8080/",
          "height": 283
        },
        "id": "hIQC74tynE_9",
        "outputId": "fdf65b3d-f005-49da-d1de-3c0bd046941f"
      },
      "execution_count": 20,
      "outputs": [
        {
          "output_type": "execute_result",
          "data": {
            "text/plain": [
              "[<matplotlib.lines.Line2D at 0x7f978106b0d0>]"
            ]
          },
          "metadata": {},
          "execution_count": 20
        },
        {
          "output_type": "display_data",
          "data": {
            "text/plain": [
              "<Figure size 432x288 with 1 Axes>"
            ],
            "image/png": "[encoded data removed]"
          },
          "metadata": {
            "needs_background": "light"
          }
        }
      ]
    },
    {
      "cell_type": "code",
      "source": [
        "plt.plot(accs)"
      ],
      "metadata": {
        "colab": {
          "base_uri": "https://localhost:8080/",
          "height": 285
        },
        "id": "gFHWI2WanfFP",
        "outputId": "9e23e343-abe1-4478-861f-79dc733d2215"
      },
      "execution_count": 21,
      "outputs": [
        {
          "output_type": "execute_result",
          "data": {
            "text/plain": [
              "[<matplotlib.lines.Line2D at 0x7f978106b850>]"
            ]
          },
          "metadata": {},
          "execution_count": 21
        },
        {
          "output_type": "display_data",
          "data": {
            "text/plain": [
              "<Figure size 432x288 with 1 Axes>"
            ],
            "image/png": "[encoded data removed]"
          },
          "metadata": {
            "needs_background": "light"
          }
        }
      ]
    },
    {
      "cell_type": "code",
      "source": [
        "train_iter = iter(train_dataloader)"
      ],
      "metadata": {
        "id": "EiFc7H3qnjC4"
      },
      "execution_count": 22,
      "outputs": []
    },
    {
      "cell_type": "code",
      "source": [
        "imgs, labels = train_iter.next()"
      ],
      "metadata": {
        "id": "RYGcie5aq5zZ"
      },
      "execution_count": 23,
      "outputs": []
    },
    {
      "cell_type": "code",
      "source": [
        "labels"
      ],
      "metadata": {
        "colab": {
          "base_uri": "https://localhost:8080/"
        },
        "id": "Bso4UEgRq8Vn",
        "outputId": "93fa85ef-0c47-4d9d-b16f-ccafe22097bf"
      },
      "execution_count": 24,
      "outputs": [
        {
          "output_type": "execute_result",
          "data": {
            "text/plain": [
              "tensor([4, 7, 7, 6, 9, 4, 0, 3, 7, 2, 1, 9, 1, 1, 5, 8, 7, 1, 9, 1, 6, 1, 2, 8,\n",
              "        0, 1, 1, 5, 9, 7, 9, 1, 1, 7, 6, 3, 4, 1, 6, 4, 2, 7, 6, 0, 6, 1, 5, 9,\n",
              "        9, 7, 7, 5, 6, 5, 6, 1, 2, 9, 6, 7, 4, 1, 9, 4, 3, 9, 4, 7, 0, 3, 2, 7,\n",
              "        0, 8, 9, 2, 1, 8, 4, 7, 7, 5, 7, 4, 7, 2, 5, 1, 7, 0, 6, 3, 0, 7, 5, 6,\n",
              "        3, 3, 7, 9])"
            ]
          },
          "metadata": {},
          "execution_count": 24
        }
      ]
    },
    {
      "cell_type": "code",
      "source": [
        "img_gpu = imgs.view(100, -1).to(device)"
      ],
      "metadata": {
        "id": "BZBk3sa2q9KL"
      },
      "execution_count": 25,
      "outputs": []
    },
    {
      "cell_type": "code",
      "source": [
        "output = model(img_gpu)"
      ],
      "metadata": {
        "id": "sYF7mNVrrDYx"
      },
      "execution_count": 27,
      "outputs": []
    },
    {
      "cell_type": "code",
      "source": [
        "pred = torch.argmax(output, dim=1)"
      ],
      "metadata": {
        "id": "WNrXb8CZrFgV"
      },
      "execution_count": 28,
      "outputs": []
    },
    {
      "cell_type": "code",
      "source": [
        "pred"
      ],
      "metadata": {
        "colab": {
          "base_uri": "https://localhost:8080/"
        },
        "id": "pZ5tY4V6rLx6",
        "outputId": "b9a12fb7-47c1-4e2e-bdce-1d583da54d41"
      },
      "execution_count": 29,
      "outputs": [
        {
          "output_type": "execute_result",
          "data": {
            "text/plain": [
              "tensor([4, 7, 7, 6, 9, 4, 0, 3, 7, 2, 1, 9, 1, 1, 5, 8, 7, 1, 9, 1, 6, 1, 2, 8,\n",
              "        0, 1, 1, 5, 9, 7, 9, 1, 1, 7, 6, 3, 4, 1, 6, 4, 2, 7, 6, 0, 6, 1, 5, 9,\n",
              "        9, 7, 7, 5, 6, 5, 6, 1, 2, 9, 6, 7, 4, 1, 9, 4, 3, 9, 4, 7, 0, 3, 2, 7,\n",
              "        0, 8, 9, 2, 1, 8, 4, 7, 7, 5, 7, 4, 7, 2, 5, 1, 7, 0, 6, 3, 0, 7, 5, 6,\n",
              "        3, 3, 7, 9], device='cuda:0')"
            ]
          },
          "metadata": {},
          "execution_count": 29
        }
      ]
    },
    {
      "cell_type": "code",
      "source": [
        "params = model.state_dict()"
      ],
      "metadata": {
        "id": "dTOTle62rMBu"
      },
      "execution_count": 30,
      "outputs": []
    },
    {
      "cell_type": "code",
      "source": [
        "torch.save(params, \"model.prm\")"
      ],
      "metadata": {
        "id": "3oYYTjUYrjl0"
      },
      "execution_count": 31,
      "outputs": []
    },
    {
      "cell_type": "code",
      "source": [
        "!ls"
      ],
      "metadata": {
        "colab": {
          "base_uri": "https://localhost:8080/"
        },
        "id": "UmPYP1B_rnUG",
        "outputId": "3881d2e8-283f-4117-8656-28878e8bd5aa"
      },
      "execution_count": 32,
      "outputs": [
        {
          "output_type": "stream",
          "name": "stdout",
          "text": [
            "data  model.prm  sample_data\n"
          ]
        }
      ]
    },
    {
      "cell_type": "code",
      "source": [
        "param_load = torch.load(\"model.prm\")"
      ],
      "metadata": {
        "id": "59cLYIuCrqIc"
      },
      "execution_count": 33,
      "outputs": []
    },
    {
      "cell_type": "code",
      "source": [
        "model.load_state_dict(param_load)"
      ],
      "metadata": {
        "colab": {
          "base_uri": "https://localhost:8080/"
        },
        "id": "aWP9C-8GrwUY",
        "outputId": "988c330c-d28a-441f-c73f-2e926830b88e"
      },
      "execution_count": 34,
      "outputs": [
        {
          "output_type": "execute_result",
          "data": {
            "text/plain": [
              "<All keys matched successfully>"
            ]
          },
          "metadata": {},
          "execution_count": 34
        }
      ]
    },
    {
      "cell_type": "code",
      "source": [
        ""
      ],
      "metadata": {
        "id": "U1zeN3Ter0Rn"
      },
      "execution_count": null,
      "outputs": []
    }
  ]
}